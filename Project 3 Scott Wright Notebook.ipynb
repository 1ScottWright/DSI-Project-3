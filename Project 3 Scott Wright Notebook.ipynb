{
 "cells": [
  {
   "cell_type": "markdown",
   "metadata": {},
   "source": [
    "# Using Reddit's API for Predicting From Which Subreddit a Post Comes"
   ]
  },
  {
   "cell_type": "markdown",
   "metadata": {},
   "source": [
    "### Scraping data from subreddits"
   ]
  },
  {
   "cell_type": "markdown",
   "metadata": {},
   "source": [
    "> I chose to compare two subreddits related to QUEENS.  My topic is to train a computer to tell the difference between a post from the Rupaul Drag Race subreddit (r/rupauldragrace) versus a post from a subreddit that is generally focused on royal families (r/monarchist).\n",
    "\n",
    "> I collected data at three points in time using the routine below.  I then have code that combines the scraped data into one dataframe and deletes duplicate data.  Overall, I ended up with approximately 1400 posts for my target subreddit (RDR) and almost 1000 posts for the other class, general monarchy posts.\n",
    "\n",
    "> Additionally, I have scraped a third subreddit, a discussion forum on the Netflix show The Crown (r/thecrown).  At the end of the exercise, I want to see if this post about this show resemble more closely posts from the RDR forum or the general monarchy forum."
   ]
  },
  {
   "cell_type": "code",
   "execution_count": 32,
   "metadata": {},
   "outputs": [],
   "source": [
    "# load libraries that will be used throughout the notebook\n",
    "\n",
    "import json\n",
    "import re\n",
    "import requests\n",
    "import time\n",
    "\n",
    "import pandas as pd\n",
    "\n",
    "from nltk.tokenize import RegexpTokenizer\n",
    "from nltk.sentiment.vader import SentimentIntensityAnalyzer\n",
    "\n",
    "from sklearn.base import BaseEstimator, TransformerMixin\n",
    "from sklearn.ensemble import RandomForestClassifier, AdaBoostClassifier\n",
    "from sklearn.ensemble import BaggingClassifier, ExtraTreesClassifier, GradientBoostingClassifier\n",
    "from sklearn.feature_extraction.text import HashingVectorizer, TfidfVectorizer, CountVectorizer\n",
    "from sklearn.linear_model import LogisticRegressionCV\n",
    "from sklearn.naive_bayes import MultinomialNB\n",
    "from sklearn.metrics import confusion_matrix\n",
    "from sklearn.model_selection import GridSearchCV, train_test_split, cross_val_score\n",
    "from sklearn.neighbors import KNeighborsClassifier \n",
    "from sklearn.pipeline import Pipeline, FeatureUnion\n",
    "from sklearn.preprocessing import StandardScaler\n",
    "\n",
    "from bs4 import BeautifulSoup             \n",
    "from nltk.stem import WordNetLemmatizer\n",
    "from nltk.corpus import stopwords\n",
    "\n",
    "import matplotlib.pyplot as plt\n",
    "%matplotlib inline"
   ]
  },
  {
   "cell_type": "markdown",
   "metadata": {},
   "source": [
    "> Select which subreddit to pull data from.  Set header for the reddit API"
   ]
  },
  {
   "cell_type": "code",
   "execution_count": 2,
   "metadata": {},
   "outputs": [],
   "source": [
    "url = \"https://www.reddit.com/r/rupaulsdragrace.json\"\n",
    "#url = \"https://www.reddit.com/r/monarchism.json\"\n",
    "#url = 'https://www.reddit.com/r/TheCrownNetflix.json'\n",
    "\n",
    "header = {'User-agent': 'Scott data science student project 0.2'}"
   ]
  },
  {
   "cell_type": "markdown",
   "metadata": {},
   "source": [
    "> The follwing code take 40 loops through the data to collect up to a 1000 posts.  Note that the reddit API only allows the most recent 1000 posts to be scraped, 25 at a time.  This loop maximizes the amount of data collected in one turn.  The print statements (now commented out) were useful in showing progress as the files were scrapped.\n",
    "#### This code is only run if additional data scraping is desired.  After data is scraped, the user only needs to load the data from the CSV files, and proceed to the modeling steps."
   ]
  },
  {
   "cell_type": "code",
   "execution_count": 3,
   "metadata": {},
   "outputs": [],
   "source": [
    "posts = []\n",
    "last = None\n",
    "for j in range(40):\n",
    "    if last == None:\n",
    "        param = {}\n",
    "    else:\n",
    "        param = {'after':last}\n",
    "    result = requests.get(url, params = param, headers = header)\n",
    "    if result.status_code == 200:\n",
    "        data = result.json()\n",
    "        posts.extend(data['data']['children'])\n",
    "        last = data['data']['after']\n",
    "    else:\n",
    "        print(res.status_code)\n",
    "        break\n",
    "    time.sleep(1)"
   ]
  },
  {
   "cell_type": "markdown",
   "metadata": {},
   "source": [
    "> The object posts is a list of dictionaries.  Each dictionary in the list contains a key 'data' which then accesses another dictionary.  This second dictionary contains the post data.  The code below iterates through the posts list, extracts the embedded dictionary, creates a Pandas dataframe, and then writes the data to a CSV file so that it can be used later in the process."
   ]
  },
  {
   "cell_type": "code",
   "execution_count": 4,
   "metadata": {},
   "outputs": [],
   "source": [
    "post_dict = [each['data'] for each in posts]\n",
    "post_df = pd.DataFrame(post_dict)\n",
    "#fileout = './datasets/thecrown.csv'\n",
    "fileout = './datasets/ru_friday3.csv'\n",
    "#fileout = './datasets/royal_wednesday.csv'\n",
    "post_df.to_csv(fileout, index = False)"
   ]
  },
  {
   "cell_type": "markdown",
   "metadata": {},
   "source": [
    "### Load scraped data from CSV files\n",
    "\n",
    "> The code below loads the files created as the data was scraped from reddit.  It then combines the files (in order from most recent to oldest), fills null values, drops duplicates, and then creates the datafield X which is a combination of the title of a post plus the text that goes along with the title.\n",
    "\n",
    "> It was required to fill null values because combining the title and post text returned a null value if either the title or text was null.  A space was inserted instead of a null which will not influence the NLP analysis.\n",
    "\n",
    "> Although the code looks repetitive, it was generated over the course of two weeks where new lines were added in as new data was collected.  It didn't make sense to go back after the fact to create functions.\n",
    "\n",
    "> The last block of code in this section puts the class labels on to the data (1 = RDR, 0 = general monarchy).  And then combines all of the data into one dataset so that it can then be passed to train test split."
   ]
  },
  {
   "cell_type": "code",
   "execution_count": 5,
   "metadata": {},
   "outputs": [],
   "source": [
    "# Load save CSV files\n",
    "post_df1 = pd.read_csv('./datasets/ru.csv')          # ru.csv is from r/rupaulsdragrace\n",
    "post_df2 = pd.read_csv('./datasets/royal.csv')       # This royal.csv is from r/monarchism\n",
    "post_df1a = pd.read_csv('./datasets/ru_Sun.csv') \n",
    "post_df2a = pd.read_csv('./datasets/royal_Sun.csv') \n",
    "post_df1b = pd.read_csv('./datasets/ru_wednesday.csv')\n",
    "post_df2b = pd.read_csv('./datasets/royal_wednesday.csv')\n",
    "post_df3 = pd.read_csv('./datasets/thecrown.csv')\n",
    "\n",
    "# Combine files \n",
    "post_df1 = post_df1a.append(post_df1)\n",
    "post_df2 = post_df2a.append(post_df2)\n",
    "post_df1 = post_df1b.append(post_df1)\n",
    "post_df2 = post_df2b.append(post_df2)\n",
    "\n",
    "# Fill null values with spaces\n",
    "post_df1.fillna(' ', inplace = True)\n",
    "post_df2.fillna(' ', inplace = True)\n",
    "post_df3.fillna(' ', inplace = True)\n",
    "\n",
    "# Create one column with the text to be analyzed\n",
    "post_df1['X'] = post_df1['title'] + ' ' + post_df1['selftext']\n",
    "post_df2['X'] = post_df2['title'] + ' ' + post_df2['selftext']\n",
    "post_df3['X'] = post_df3['title'] + ' ' + post_df3['selftext']\n",
    "\n",
    "# Drop duplicate records -- highly likely since scrapes happened at various points in two weeks\n",
    "post_df1.drop_duplicates(subset = ['X'], keep = 'first', inplace = True)\n",
    "post_df2.drop_duplicates(subset = ['X'], keep = 'first', inplace = True)\n",
    "post_df3.drop_duplicates(subset = ['X'], keep = 'first', inplace = True)\n",
    "\n",
    "# Prep data so that modeling process can begin.\n",
    "post_df1['subred'] = 1   # 1 indicates subreddit RuPaul's drag race\n",
    "post_df2['subred'] = 0   # 0 indicates subreddit Monarchy\n",
    "X = post_df1[['X']]\n",
    "y = post_df1[['subred']]\n",
    "X = X.append(post_df2[['X']])\n",
    "y = y.append(post_df2[['subred']])\n",
    "X.reset_index(drop= True, inplace = True)            # Since the two subreddits had overlapping indices\n",
    "y.reset_index(drop= True, inplace = True)            # need to reset so that there are no conflicts\n",
    "X_train, X_test, y_train, y_test = train_test_split(X, y, random_state = 42, stratify = y)"
   ]
  },
  {
   "cell_type": "markdown",
   "metadata": {},
   "source": [
    "#### Find mean of y so that we know the minimum performance of any model.\n",
    "\n",
    "> Given the mean is around 60%, any model that has an accuracy of around 60% is a very poor model.  Labeling all posts as 1 would produce this level of accuracy without any NLP analysis."
   ]
  },
  {
   "cell_type": "code",
   "execution_count": 6,
   "metadata": {},
   "outputs": [
    {
     "name": "stdout",
     "output_type": "stream",
     "text": [
      "subred    0.597738\n",
      "dtype: float64\n",
      "subred    0.596774\n",
      "dtype: float64\n"
     ]
    }
   ],
   "source": [
    "print(y_train.mean())\n",
    "print(y_test.mean())"
   ]
  },
  {
   "cell_type": "markdown",
   "metadata": {},
   "source": [
    "## Data Prep / Cleansing"
   ]
  },
  {
   "cell_type": "markdown",
   "metadata": {},
   "source": [
    "> The following data prep routine was used to prepare the data for analysis.\n",
    "\n",
    "> I did sensitivity test certain cleaning protocol to see if the impact on model accuracy.  For example, I turned Lemmatizing off and noticed poorer model performance.  I also kept stop words in place but again noticed (significant) model deterioration.\n",
    "\n",
    "> Many of these tasks could be handled by the models themselves, but I liked the idea of controlling the cleaning process.  Additionally, doing this step at the beginning allowed me to run multiple passes of the models without repeating these tasks each time."
   ]
  },
  {
   "cell_type": "code",
   "execution_count": 7,
   "metadata": {},
   "outputs": [],
   "source": [
    "def data_prep(text_in):      \n",
    "    text_out = text_in.lower()                           #change everything to lower case\n",
    "    text_out = re.sub(\"\\\\n\", ' ', text_out)              #replace end of line \\n with space\n",
    "    text_out = re.sub(\"\\.[0-9a-z]+ \", ' ', text_out)     #eliminate .abc231 constucts\n",
    "    text_out = re.sub(\"[^a-z ]\", '', text_out)           #if not text, remove\n",
    "    tokenizer = RegexpTokenizer('\\w+')                   #instantiate Tokenizer\n",
    "    list_out = tokenizer.tokenize(text_out)              #split into words\n",
    "    lemmatizer = WordNetLemmatizer()                     #instantiate lemmatizer\n",
    "    list_out = [lemmatizer.lemmatize(each) for each in list_out]\n",
    "    list_out = [each for each in list_out if each not in stopwords.words('english')]\n",
    "    return  (' '.join(list_out))                         #smash words back together"
   ]
  },
  {
   "cell_type": "code",
   "execution_count": 8,
   "metadata": {},
   "outputs": [],
   "source": [
    "X_tr_f = X_train['X'].apply(data_prep)\n",
    "X_te_f = X_test['X'].apply(data_prep)\n",
    "X_crown = post_df3['X'].apply(data_prep)"
   ]
  },
  {
   "cell_type": "markdown",
   "metadata": {},
   "source": [
    "### EDA on training data"
   ]
  },
  {
   "cell_type": "markdown",
   "metadata": {},
   "source": [
    "> Remove any entries where the post is blanks.  This can happen if the post only contained stop words."
   ]
  },
  {
   "cell_type": "code",
   "execution_count": 9,
   "metadata": {},
   "outputs": [],
   "source": [
    "trn = pd.DataFrame({\n",
    "    'X':X_tr_f,\n",
    "    'y':y_train['subred']\n",
    "})\n",
    "\n",
    "rmv = list(trn[trn['X'] == ''].index)\n",
    "\n",
    "trn.drop(labels = rmv, axis = 0, inplace = True)\n",
    "\n",
    "X_tr_f = trn['X']\n",
    "y_train = trn[['y']]\n",
    "\n",
    "trn = pd.DataFrame({\n",
    "    'X':X_te_f,\n",
    "    'y':y_test['subred']\n",
    "})\n",
    "\n",
    "rmv = list(trn[trn['X'] == ''].index)\n",
    "trn.drop(labels = rmv, axis = 0, inplace = True)\n",
    "\n",
    "X_te_f = trn['X']\n",
    "y_test = trn[['y']]"
   ]
  },
  {
   "cell_type": "markdown",
   "metadata": {},
   "source": [
    "> Look at most common words, which subreddit they came from, etc."
   ]
  },
  {
   "cell_type": "code",
   "execution_count": 10,
   "metadata": {},
   "outputs": [
    {
     "data": {
      "text/plain": [
       "<matplotlib.legend.Legend at 0x1a21b6d0f0>"
      ]
     },
     "execution_count": 10,
     "metadata": {},
     "output_type": "execute_result"
    },
    {
     "data": {
      "image/png": "[encoded data removed]",
      "text/plain": [
       "<matplotlib.figure.Figure at 0x1a21b83908>"
      ]
     },
     "metadata": {},
     "output_type": "display_data"
    }
   ],
   "source": [
    "import numpy as np\n",
    "\n",
    "cv = CountVectorizer()\n",
    "cv.fit(X_tr_f)\n",
    "eda = cv.transform(X_tr_f)\n",
    "eda_set = pd.DataFrame(eda.todense(), columns = cv.get_feature_names())\n",
    "eda_set['ru'] = y_train\n",
    "top_words = eda_set.sum().sort_values(ascending = False)[:22]\n",
    "ru_set = eda_set[eda_set['ru'] == 1] / len(post_df1)\n",
    "mon_set = eda_set[eda_set['ru'] != 1] / len(post_df2)\n",
    "data_to_graph = pd.DataFrame({\n",
    "    'ru words': ru_set[top_words.index].sum()[1:]*100,\n",
    "    'monarchy words': mon_set[top_words.index].sum()[1:]*100\n",
    "})\n",
    "\n",
    "\n",
    "\n",
    "# Graph data collected above\n",
    "ig, ax = plt.subplots(figsize = (10,10) )\n",
    "\n",
    "# set height of bar\n",
    "bars1 = data_to_graph['ru words']\n",
    "bars2 = data_to_graph['monarchy words']\n",
    "\n",
    "y_pos = np.arange(len(bars1)*3)                           # create spots to put bars 0, 3, 6, etc for RU\n",
    "y_pos1 = np.arange(0, len(bars1)*3, 3)                    # spots 1, 4, 7, etc for monarcy \n",
    "y_pos2 = y_pos1 + 1                                       # leave 2, 5, 8, etc blank for esthetics\n",
    "words = top_words.index[1:]                               # these are the words being graphed, eliminated RDR tag\n",
    "ax.barh(y_pos1, bars1, align='center',\n",
    "        color='#66BF6A', ecolor='black', label = 'Rupaul')\n",
    "ax.barh(y_pos2, bars2, align='center',\n",
    "        color='#002A5C', ecolor='black', label = 'Monarchy')\n",
    "ax.set_yticks(y_pos1)\n",
    "ax.set_yticklabels(words)\n",
    "ax.invert_yaxis() \n",
    "ax.set_xlabel(\"Percent of Posts with Popular Word\")\n",
    "ax.set_ylabel(\"Popular Words in Subreddit Posts\")\n",
    "plt.legend(loc = 4)                                        #puts legend in bottom corner\n"
   ]
  },
  {
   "cell_type": "markdown",
   "metadata": {},
   "source": [
    "# Models"
   ]
  },
  {
   "cell_type": "markdown",
   "metadata": {},
   "source": [
    "### Basic function to print out stats on grid search best model / parameters / fit"
   ]
  },
  {
   "cell_type": "code",
   "execution_count": 11,
   "metadata": {},
   "outputs": [],
   "source": [
    "def print_grid_scores(grid_in, Xt = X_te_f, yt = y_test):\n",
    "    print(grid_in.best_params_)\n",
    "    print('Traing score:                 ', grid_in.best_score_)\n",
    "    print('Test score / Accuracy:        ', grid_in.score(Xt,yt))\n",
    "    print('Confusion Matrix:')\n",
    "    print(confusion_matrix(yt, grid_in.predict(Xt)))\n",
    "#    tn, fp, fn, tp = confusion_matrix(yt, grid_in.predict(Xt)).ravel()\n",
    "#    print('Accuracy:          ', (tn+tp)/(tn+tp+fn+fp), '     should equal test score')"
   ]
  },
  {
   "cell_type": "markdown",
   "metadata": {},
   "source": [
    "### NB and Logistic Models - with CountVectorizor & TDIFD"
   ]
  },
  {
   "cell_type": "code",
   "execution_count": 12,
   "metadata": {},
   "outputs": [
    {
     "name": "stdout",
     "output_type": "stream",
     "text": [
      "{'vt__max_features': 5000, 'vt__ngram_range': (1, 3)}\n",
      "Traing score:                  0.9223300970873787\n",
      "Test score / Accuracy:         0.9321486268174475\n",
      "Confusion Matrix:\n",
      "[[214  35]\n",
      " [  7 363]]\n"
     ]
    }
   ],
   "source": [
    "pipe1a = Pipeline([\n",
    "    ('vt', CountVectorizer()),\n",
    "    ('lr', LogisticRegressionCV())\n",
    "])\n",
    "\n",
    "params_grid = {\n",
    "    'vt__max_features':[None, 4000, 5000],\n",
    "    'vt__ngram_range':[(1,1), (1,2), (1,3), (1,4), (1,5)]\n",
    "#    'vt__max_df':[1.0, .9],\n",
    "#    'vt__min_df':[0.0]\n",
    "}\n",
    "\n",
    "grid = GridSearchCV(pipe1a, params_grid, verbose = 0, n_jobs = 2)\n",
    "grid.fit(X_tr_f, y_train.values.ravel())   # was getting a warning b/c shape - ravel()\n",
    "print_grid_scores(grid)"
   ]
  },
  {
   "cell_type": "code",
   "execution_count": 13,
   "metadata": {},
   "outputs": [
    {
     "name": "stdout",
     "output_type": "stream",
     "text": [
      "{'tv__max_features': None, 'tv__ngram_range': (1, 5)}\n",
      "Traing score:                  0.9444444444444444\n",
      "Test score / Accuracy:         0.9515347334410339\n",
      "Confusion Matrix:\n",
      "[[231  18]\n",
      " [ 12 358]]\n"
     ]
    }
   ],
   "source": [
    "pipe2 = Pipeline([\n",
    "    ('tv', TfidfVectorizer()), \n",
    "    ('lr', LogisticRegressionCV())\n",
    "])\n",
    "\n",
    "params_grid = {\n",
    "    'tv__max_features':[None, 4000, 5000],\n",
    "    'tv__ngram_range':[(1,4), (1,5), (1,6)]\n",
    "}\n",
    "\n",
    "\n",
    "grid2 = GridSearchCV(pipe2, params_grid, verbose = 0, n_jobs = 2)\n",
    "grid2.fit(X_tr_f, y_train.values.ravel())   \n",
    "print_grid_scores(grid2)\n"
   ]
  },
  {
   "cell_type": "code",
   "execution_count": 14,
   "metadata": {},
   "outputs": [
    {
     "name": "stdout",
     "output_type": "stream",
     "text": [
      "{'vt__max_features': None, 'vt__ngram_range': (1, 3)}\n",
      "Traing score:                  0.947680690399137\n",
      "Test score / Accuracy:         0.9644588045234249\n",
      "Confusion Matrix:\n",
      "[[236  13]\n",
      " [  9 361]]\n"
     ]
    }
   ],
   "source": [
    "pipe1b = Pipeline([\n",
    "    ('vt', CountVectorizer()),\n",
    "    ('nb', MultinomialNB())\n",
    "])\n",
    "\n",
    "params_grid = {\n",
    "    'vt__max_features':[None, 4000, 5000],\n",
    "    'vt__ngram_range':[(1,1), (1,2), (1,3), (1,4), (1,5)]\n",
    "#    'vt__max_df':[1.0, .9],\n",
    "#    'vt__min_df':[0.0]\n",
    "}\n",
    "\n",
    "grid1b = GridSearchCV(pipe1b, params_grid, verbose = 0, n_jobs = 3)\n",
    "grid1b.fit(X_tr_f, y_train.values.ravel())   # was getting a warning b/c shape - ravel()\n",
    "print_grid_scores(grid1b)"
   ]
  },
  {
   "cell_type": "code",
   "execution_count": 15,
   "metadata": {},
   "outputs": [
    {
     "name": "stdout",
     "output_type": "stream",
     "text": [
      "{'tv__max_features': 3000, 'tv__ngram_range': (1, 1)}\n",
      "Traing score:                  0.947680690399137\n",
      "Test score / Accuracy:         0.9515347334410339\n",
      "Confusion Matrix:\n",
      "[[226  23]\n",
      " [  7 363]]\n"
     ]
    }
   ],
   "source": [
    "pipe2b = Pipeline([\n",
    "    ('tv', TfidfVectorizer()), \n",
    "    ('nb', MultinomialNB())\n",
    "])\n",
    "\n",
    "params_grid = {\n",
    "    'tv__max_features':[None, 2000, 3000, 3500],\n",
    "    'tv__ngram_range':[(1,1,), (1,2), (1,3)]\n",
    "}\n",
    "\n",
    "\n",
    "grid2 = GridSearchCV(pipe2b, params_grid, verbose = 0, n_jobs = 3)\n",
    "grid2.fit(X_tr_f, y_train.values.ravel())   \n",
    "print_grid_scores(grid2)\n"
   ]
  },
  {
   "cell_type": "markdown",
   "metadata": {},
   "source": [
    "> Pretty high scores already with MultinomialNB and Logistic Regression."
   ]
  },
  {
   "cell_type": "markdown",
   "metadata": {},
   "source": [
    "### RandomForestClassifier"
   ]
  },
  {
   "cell_type": "code",
   "execution_count": 16,
   "metadata": {},
   "outputs": [
    {
     "name": "stdout",
     "output_type": "stream",
     "text": [
      "{'rf__n_estimators': 45, 'vt__max_df': 0.975, 'vt__max_features': None, 'vt__min_df': 1, 'vt__ngram_range': (1, 4)}\n",
      "Traing score:                  0.9147788565264293\n",
      "Test score / Accuracy:         0.9305331179321487\n",
      "Confusion Matrix:\n",
      "[[209  40]\n",
      " [  3 367]]\n"
     ]
    }
   ],
   "source": [
    "pipe3 = Pipeline([\n",
    "    ('vt', CountVectorizer()),\n",
    "    ('rf', RandomForestClassifier())\n",
    "])\n",
    "\n",
    "params_grid = {\n",
    "    'vt__max_features':[None, 5000],\n",
    "    'vt__max_df':[.975, .97, .965],\n",
    "    'vt__min_df':[1],\n",
    "    'vt__ngram_range':[(1,2), (1,3), (1,4)],\n",
    "    'rf__n_estimators': [35, 40, 45]\n",
    "}\n",
    "\n",
    "grid3 = GridSearchCV(pipe3, params_grid, verbose = 0, n_jobs = 3)\n",
    "grid3.fit(X_tr_f, y_train.values.ravel())\n",
    "print_grid_scores(grid3)"
   ]
  },
  {
   "cell_type": "code",
   "execution_count": 17,
   "metadata": {},
   "outputs": [
    {
     "name": "stdout",
     "output_type": "stream",
     "text": [
      "{'rf__n_estimators': 30, 'tv__max_df': 0.98, 'tv__max_features': None, 'tv__min_df': 2, 'tv__ngram_range': (1, 5)}\n",
      "Traing score:                  0.9115426105717368\n",
      "Test score / Accuracy:         0.9353796445880452\n",
      "Confusion Matrix:\n",
      "[[229  20]\n",
      " [ 20 350]]\n"
     ]
    }
   ],
   "source": [
    "pipe4 = Pipeline([\n",
    "    ('tv', TfidfVectorizer()), \n",
    "    ('rf', RandomForestClassifier())\n",
    "])\n",
    "\n",
    "params_grid = {\n",
    "    'tv__max_features':[None, 5000],\n",
    "    'tv__max_df':[ .985, .98, .975],\n",
    "    'tv__min_df':[1, 2],\n",
    "    'tv__ngram_range':[(1,3), (1,4), (1,5)],\n",
    "    'rf__n_estimators': [30, 31, 32]\n",
    "}\n",
    "\n",
    "grid4 = GridSearchCV(pipe4, params_grid, verbose = 0, n_jobs = 3)\n",
    "grid4.fit(X_tr_f, y_train.values.ravel())\n",
    "print_grid_scores(grid4)"
   ]
  },
  {
   "cell_type": "markdown",
   "metadata": {},
   "source": [
    "### AdaBoost"
   ]
  },
  {
   "cell_type": "code",
   "execution_count": 18,
   "metadata": {},
   "outputs": [
    {
     "name": "stdout",
     "output_type": "stream",
     "text": [
      "{'ada__learning_rate': 0.85, 'ada__n_estimators': 75, 'vt__ngram_range': (1, 1)}\n",
      "Traing score:                  0.8980582524271845\n",
      "Test score / Accuracy:         0.9143780290791599\n",
      "Confusion Matrix:\n",
      "[[205  44]\n",
      " [  9 361]]\n"
     ]
    }
   ],
   "source": [
    "pipe6 = Pipeline([\n",
    "    ('vt', CountVectorizer()),\n",
    "    ('ada', AdaBoostClassifier())\n",
    "])\n",
    "\n",
    "ada_params = {\n",
    "    'vt__ngram_range':[(1,1), (1,2), (1,3), (1,4)],\n",
    "    'ada__n_estimators': [70, 75, 80],\n",
    "    'ada__learning_rate':[.85, .9, .95]\n",
    "}\n",
    "\n",
    "gs = GridSearchCV(pipe6, param_grid = ada_params, n_jobs = 3)\n",
    "gs.fit(X_tr_f, y_train.values.ravel())\n",
    "print_grid_scores(gs)"
   ]
  },
  {
   "cell_type": "code",
   "execution_count": 19,
   "metadata": {},
   "outputs": [
    {
     "name": "stdout",
     "output_type": "stream",
     "text": [
      "{'ada__learning_rate': 1, 'ada__n_estimators': 243, 'tv__max_features': 2050, 'tv__ngram_range': (1, 3)}\n",
      "Traing score:                  0.9007551240560949\n",
      "Test score / Accuracy:         0.925686591276252\n",
      "Confusion Matrix:\n",
      "[[216  33]\n",
      " [ 13 357]]\n"
     ]
    }
   ],
   "source": [
    "pipe7 = Pipeline([\n",
    "    ('tv', TfidfVectorizer()), \n",
    "    ('ada', AdaBoostClassifier())\n",
    "])\n",
    "\n",
    "params_grid = {\n",
    "    'tv__max_features':[2000, 2050, 2100, 2200],\n",
    "    'tv__ngram_range':[(1,3), (1,4), (1,5)],\n",
    "#    'tv__max_df':[ 1.0, .95],\n",
    "#    'tv__min_df':[1, 2],\n",
    "    'ada__n_estimators': [240, 243, 245, 247],\n",
    "    'ada__learning_rate':[1, .93, .92, .91]    \n",
    "}\n",
    "\n",
    "grid7 = GridSearchCV(pipe7, params_grid, verbose = 0, n_jobs = 3)\n",
    "grid7.fit(X_tr_f, y_train.values.ravel())   \n",
    "print_grid_scores(grid7)"
   ]
  },
  {
   "cell_type": "markdown",
   "metadata": {},
   "source": [
    "### BaggingClassifier"
   ]
  },
  {
   "cell_type": "code",
   "execution_count": 20,
   "metadata": {},
   "outputs": [
    {
     "name": "stdout",
     "output_type": "stream",
     "text": [
      "{'bag__n_estimators': 50, 'vt__max_df': 1.0, 'vt__max_features': None, 'vt__ngram_range': (1, 1)}\n",
      "Traing score:                  0.9002157497303128\n",
      "Test score / Accuracy:         0.9176090468497576\n",
      "Confusion Matrix:\n",
      "[[209  40]\n",
      " [ 11 359]]\n"
     ]
    }
   ],
   "source": [
    "pipe5 = Pipeline([\n",
    "    ('vt', CountVectorizer()),\n",
    "    ('bag',BaggingClassifier())\n",
    "])\n",
    "\n",
    "params_grid = {\n",
    "    'vt__ngram_range':[(1,1), (1,2)],\n",
    "    'vt__max_features':[None],\n",
    "    'vt__max_df':[ .9, 1.0],\n",
    "#    'vt__min_df':[1, 2, 3],\n",
    "    'bag__n_estimators': [50, 75, 100, 250, 500]\n",
    "}\n",
    "\n",
    "grid5 = GridSearchCV(pipe5, params_grid, verbose = 0, n_jobs = 3)\n",
    "grid5.fit(X_tr_f, y_train.values.ravel())\n",
    "print_grid_scores(grid5)"
   ]
  },
  {
   "cell_type": "markdown",
   "metadata": {},
   "source": [
    "### Gradient Boosting Classifier"
   ]
  },
  {
   "cell_type": "code",
   "execution_count": 21,
   "metadata": {},
   "outputs": [
    {
     "name": "stdout",
     "output_type": "stream",
     "text": [
      "{'gb__learning_rate': 0.8, 'gb__loss': 'exponential', 'gb__max_depth': 4, 'gb__max_features': None, 'gb__n_estimators': 3000, 'gb__subsample': 1.0, 'tv__max_df': 1.0, 'tv__max_features': None, 'tv__min_df': 3, 'tv__ngram_range': (1, 3)}\n",
      "Traing score:                  0.9115426105717368\n",
      "Test score / Accuracy:         0.9305331179321487\n",
      "Confusion Matrix:\n",
      "[[218  31]\n",
      " [ 12 358]]\n"
     ]
    }
   ],
   "source": [
    "pipe8 = Pipeline([\n",
    "    ('tv', TfidfVectorizer()), \n",
    "    ('gb', GradientBoostingClassifier(random_state = 1929))\n",
    "])\n",
    "\n",
    "params_grid = {\n",
    "    'tv__ngram_range':[(1,2), (1,3), (1,4)],\n",
    "    'tv__max_features':[None],\n",
    "    'tv__max_df':[ 1.0, .95],\n",
    "    'tv__min_df':[2, 3],\n",
    "    'gb__max_depth': [3, 4],\n",
    "    'gb__loss':['exponential'],\n",
    "#    'gb__criterion':['friedman_mse', 'mse', 'mae'],\n",
    "    'gb__learning_rate':[.9, .8, .7],\n",
    "    'gb__n_estimators': [1000, 2000, 3000] ,\n",
    "    'gb__subsample':[1.0],\n",
    "    'gb__max_features':[None]\n",
    "}\n",
    "\n",
    "grid8 = GridSearchCV(pipe8, params_grid, verbose = 0, n_jobs = 3)\n",
    "grid8.fit(X_tr_f, y_train.values.ravel())   \n",
    "print_grid_scores(grid8)"
   ]
  },
  {
   "cell_type": "markdown",
   "metadata": {},
   "source": [
    "# Overall, the Naive Bayes Model with Count Vectorizer was Best Performing "
   ]
  },
  {
   "cell_type": "markdown",
   "metadata": {},
   "source": [
    "> The fit is relatively good at above 96% accuracy on the testing set.  Accuracy of 94-95% on the training set.  Since these values are close, it implies a nice fit."
   ]
  },
  {
   "cell_type": "markdown",
   "metadata": {},
   "source": [
    "# Reviewing the Misclassifications"
   ]
  },
  {
   "cell_type": "markdown",
   "metadata": {},
   "source": [
    "> This printout below shows posts that were misclassified in the test dataset by the best model (grid1b, NB with CV)."
   ]
  },
  {
   "cell_type": "code",
   "execution_count": 22,
   "metadata": {},
   "outputs": [
    {
     "data": {
      "text/html": [
       "<div>\n",
       "<style scoped>\n",
       "    .dataframe tbody tr th:only-of-type {\n",
       "        vertical-align: middle;\n",
       "    }\n",
       "\n",
       "    .dataframe tbody tr th {\n",
       "        vertical-align: top;\n",
       "    }\n",
       "\n",
       "    .dataframe thead th {\n",
       "        text-align: right;\n",
       "    }\n",
       "</style>\n",
       "<table border=\"1\" class=\"dataframe\">\n",
       "  <thead>\n",
       "    <tr style=\"text-align: right;\">\n",
       "      <th></th>\n",
       "      <th>X</th>\n",
       "      <th>y</th>\n",
       "      <th>yhat</th>\n",
       "      <th>Misclass</th>\n",
       "    </tr>\n",
       "  </thead>\n",
       "  <tbody>\n",
       "    <tr>\n",
       "      <th>1819</th>\n",
       "      <td>dont want puppet menteri besar raja perlis</td>\n",
       "      <td>0</td>\n",
       "      <td>1</td>\n",
       "      <td>1</td>\n",
       "    </tr>\n",
       "    <tr>\n",
       "      <th>320</th>\n",
       "      <td>clinic near start free std screening</td>\n",
       "      <td>1</td>\n",
       "      <td>0</td>\n",
       "      <td>1</td>\n",
       "    </tr>\n",
       "    <tr>\n",
       "      <th>951</th>\n",
       "      <td>work hospital family asks prognosis</td>\n",
       "      <td>1</td>\n",
       "      <td>0</td>\n",
       "      <td>1</td>\n",
       "    </tr>\n",
       "    <tr>\n",
       "      <th>1610</th>\n",
       "      <td>thought wa kinda funny replace prodemocracy an...</td>\n",
       "      <td>0</td>\n",
       "      <td>1</td>\n",
       "      <td>1</td>\n",
       "    </tr>\n",
       "    <tr>\n",
       "      <th>364</th>\n",
       "      <td>feed horse</td>\n",
       "      <td>1</td>\n",
       "      <td>0</td>\n",
       "      <td>1</td>\n",
       "    </tr>\n",
       "    <tr>\n",
       "      <th>442</th>\n",
       "      <td>soooo ive found product supermarket spain</td>\n",
       "      <td>1</td>\n",
       "      <td>0</td>\n",
       "      <td>1</td>\n",
       "    </tr>\n",
       "    <tr>\n",
       "      <th>1869</th>\n",
       "      <td>la royale french royalist song</td>\n",
       "      <td>0</td>\n",
       "      <td>1</td>\n",
       "      <td>1</td>\n",
       "    </tr>\n",
       "    <tr>\n",
       "      <th>434</th>\n",
       "      <td>wa robin williams defining role</td>\n",
       "      <td>1</td>\n",
       "      <td>0</td>\n",
       "      <td>1</td>\n",
       "    </tr>\n",
       "    <tr>\n",
       "      <th>1680</th>\n",
       "      <td>weve hit subscriber post subscriber httpsmyout...</td>\n",
       "      <td>0</td>\n",
       "      <td>1</td>\n",
       "      <td>1</td>\n",
       "    </tr>\n",
       "    <tr>\n",
       "      <th>520</th>\n",
       "      <td>saw showerthoughts immediately meme came mind</td>\n",
       "      <td>1</td>\n",
       "      <td>0</td>\n",
       "      <td>1</td>\n",
       "    </tr>\n",
       "    <tr>\n",
       "      <th>355</th>\n",
       "      <td>queen shitposts crown majesty</td>\n",
       "      <td>1</td>\n",
       "      <td>0</td>\n",
       "      <td>1</td>\n",
       "    </tr>\n",
       "    <tr>\n",
       "      <th>2000</th>\n",
       "      <td>queen aishwarya nepal revered bada maharani</td>\n",
       "      <td>0</td>\n",
       "      <td>1</td>\n",
       "      <td>1</td>\n",
       "    </tr>\n",
       "    <tr>\n",
       "      <th>2182</th>\n",
       "      <td>queen rania meet qrta teacher trainee amman sc...</td>\n",
       "      <td>0</td>\n",
       "      <td>1</td>\n",
       "      <td>1</td>\n",
       "    </tr>\n",
       "    <tr>\n",
       "      <th>2004</th>\n",
       "      <td>cometh hour cometh woman queen saved commonwealth</td>\n",
       "      <td>0</td>\n",
       "      <td>1</td>\n",
       "      <td>1</td>\n",
       "    </tr>\n",
       "    <tr>\n",
       "      <th>2329</th>\n",
       "      <td>revealed teenager tried assassinate queen shoc...</td>\n",
       "      <td>0</td>\n",
       "      <td>1</td>\n",
       "      <td>1</td>\n",
       "    </tr>\n",
       "    <tr>\n",
       "      <th>295</th>\n",
       "      <td>people tell welcome crib visit house</td>\n",
       "      <td>1</td>\n",
       "      <td>0</td>\n",
       "      <td>1</td>\n",
       "    </tr>\n",
       "    <tr>\n",
       "      <th>2228</th>\n",
       "      <td>queen calm confidence traced single tip mother</td>\n",
       "      <td>0</td>\n",
       "      <td>1</td>\n",
       "      <td>1</td>\n",
       "    </tr>\n",
       "    <tr>\n",
       "      <th>1852</th>\n",
       "      <td>katie hopkins twitter competition cant buy cla...</td>\n",
       "      <td>0</td>\n",
       "      <td>1</td>\n",
       "      <td>1</td>\n",
       "    </tr>\n",
       "    <tr>\n",
       "      <th>1052</th>\n",
       "      <td>discussion country netflixes season usa none k...</td>\n",
       "      <td>1</td>\n",
       "      <td>0</td>\n",
       "      <td>1</td>\n",
       "    </tr>\n",
       "    <tr>\n",
       "      <th>2291</th>\n",
       "      <td>love quote much</td>\n",
       "      <td>0</td>\n",
       "      <td>1</td>\n",
       "      <td>1</td>\n",
       "    </tr>\n",
       "    <tr>\n",
       "      <th>2449</th>\n",
       "      <td>poll find think sub monarchism general open ne...</td>\n",
       "      <td>0</td>\n",
       "      <td>1</td>\n",
       "      <td>1</td>\n",
       "    </tr>\n",
       "    <tr>\n",
       "      <th>1493</th>\n",
       "      <td>queen officially unveils new highland game pav...</td>\n",
       "      <td>0</td>\n",
       "      <td>1</td>\n",
       "      <td>1</td>\n",
       "    </tr>\n",
       "  </tbody>\n",
       "</table>\n",
       "</div>"
      ],
      "text/plain": [
       "                                                      X  y  yhat  Misclass\n",
       "1819         dont want puppet menteri besar raja perlis  0     1         1\n",
       "320                clinic near start free std screening  1     0         1\n",
       "951                 work hospital family asks prognosis  1     0         1\n",
       "1610  thought wa kinda funny replace prodemocracy an...  0     1         1\n",
       "364                                          feed horse  1     0         1\n",
       "442           soooo ive found product supermarket spain  1     0         1\n",
       "1869                     la royale french royalist song  0     1         1\n",
       "434                     wa robin williams defining role  1     0         1\n",
       "1680  weve hit subscriber post subscriber httpsmyout...  0     1         1\n",
       "520       saw showerthoughts immediately meme came mind  1     0         1\n",
       "355                       queen shitposts crown majesty  1     0         1\n",
       "2000        queen aishwarya nepal revered bada maharani  0     1         1\n",
       "2182  queen rania meet qrta teacher trainee amman sc...  0     1         1\n",
       "2004  cometh hour cometh woman queen saved commonwealth  0     1         1\n",
       "2329  revealed teenager tried assassinate queen shoc...  0     1         1\n",
       "295                people tell welcome crib visit house  1     0         1\n",
       "2228     queen calm confidence traced single tip mother  0     1         1\n",
       "1852  katie hopkins twitter competition cant buy cla...  0     1         1\n",
       "1052  discussion country netflixes season usa none k...  1     0         1\n",
       "2291                                    love quote much  0     1         1\n",
       "2449  poll find think sub monarchism general open ne...  0     1         1\n",
       "1493  queen officially unveils new highland game pav...  0     1         1"
      ]
     },
     "execution_count": 22,
     "metadata": {},
     "output_type": "execute_result"
    }
   ],
   "source": [
    "yhat = grid1b.predict(X_te_f)\n",
    "df_out = pd.DataFrame({\n",
    "    'X':X_te_f,\n",
    "    'y':y_test['y'],\n",
    "    'yhat':yhat\n",
    "})\n",
    "\n",
    "df_out['Misclass'] = abs(df_out['y'] - df_out['yhat'])\n",
    "df_out[df_out['Misclass']==1]"
   ]
  },
  {
   "cell_type": "markdown",
   "metadata": {},
   "source": [
    "# Using the Model"
   ]
  },
  {
   "cell_type": "markdown",
   "metadata": {},
   "source": [
    "### Predicting specific phrases -- which subreddit would this phrase be most likely to show up in?"
   ]
  },
  {
   "cell_type": "code",
   "execution_count": 23,
   "metadata": {},
   "outputs": [],
   "source": [
    "def pred_phrase(list_in, grid_in = grid1b):\n",
    "    n = max([len(each) for each in list_in])\n",
    "    for each in list_in:\n",
    "        pr = grid_in.predict([each])\n",
    "        print(each, end = ' ' * (n+4 - len(each)))\n",
    "        if pr:\n",
    "            print (\"Rupaul\")\n",
    "        else:\n",
    "            print (\"General Monarchy\")\n",
    "        print(' ')"
   ]
  },
  {
   "cell_type": "code",
   "execution_count": 24,
   "metadata": {},
   "outputs": [],
   "source": [
    "list_to_test = ['queen', 'mother', 'queen mother', 'coronation', 'crown', 'elizabeth', 'william', 'willam', 'miss vanjy didnt get a crown', 'work', 'work william', 'catherine work', 'jubilee', 'jujube']"
   ]
  },
  {
   "cell_type": "code",
   "execution_count": 25,
   "metadata": {},
   "outputs": [
    {
     "name": "stdout",
     "output_type": "stream",
     "text": [
      "queen                           Rupaul\n",
      " \n",
      "mother                          Rupaul\n",
      " \n",
      "queen mother                    Rupaul\n",
      " \n",
      "coronation                      General Monarchy\n",
      " \n",
      "crown                           General Monarchy\n",
      " \n",
      "elizabeth                       General Monarchy\n",
      " \n",
      "william                         General Monarchy\n",
      " \n",
      "willam                          Rupaul\n",
      " \n",
      "miss vanjy didnt get a crown    Rupaul\n",
      " \n",
      "work                            Rupaul\n",
      " \n",
      "work william                    General Monarchy\n",
      " \n",
      "catherine work                  General Monarchy\n",
      " \n",
      "jubilee                         General Monarchy\n",
      " \n",
      "jujube                          Rupaul\n",
      " \n"
     ]
    }
   ],
   "source": [
    "pred_phrase(list_to_test)"
   ]
  },
  {
   "cell_type": "markdown",
   "metadata": {},
   "source": [
    "> How close is The Crown reddit to either Rupaul or Monarchist?  Slightly over 50%"
   ]
  },
  {
   "cell_type": "code",
   "execution_count": 26,
   "metadata": {},
   "outputs": [
    {
     "name": "stdout",
     "output_type": "stream",
     "text": [
      "0.5459459459459459\n"
     ]
    }
   ],
   "source": [
    "print(grid1b.predict(X_crown).mean())"
   ]
  },
  {
   "cell_type": "markdown",
   "metadata": {},
   "source": [
    "# Summary"
   ]
  },
  {
   "cell_type": "markdown",
   "metadata": {},
   "source": [
    "> In general, I was surprised that a more simple model (Naive Bayes) was the most powerful predictor.  I did a lot of hypertuning of parameters on the ensemble models, but they never reached the level of predicting power than either NB or Logistic regression had.\n",
    "\n",
    "> The initial score for a basic model without much advanced analysis was just under 90%.  After initial model building, testing and parameter tuning, I reached a score of 93% on NB and 90-92% on other models.  A second pass at the process yieled two additional areas where I could make changes:  eliminating records that had all stop words and so were blank data going through the model, and tuning on ngrams.  The ngram tuning provided a 2.5% boost to my best model and the removal of the blank posts added another 0.5%."
   ]
  },
  {
   "cell_type": "code",
   "execution_count": null,
   "metadata": {},
   "outputs": [],
   "source": []
  },
  {
   "cell_type": "code",
   "execution_count": null,
   "metadata": {},
   "outputs": [],
   "source": []
  },
  {
   "cell_type": "code",
   "execution_count": null,
   "metadata": {},
   "outputs": [],
   "source": []
  },
  {
   "cell_type": "code",
   "execution_count": null,
   "metadata": {},
   "outputs": [],
   "source": []
  },
  {
   "cell_type": "code",
   "execution_count": null,
   "metadata": {},
   "outputs": [],
   "source": []
  },
  {
   "cell_type": "markdown",
   "metadata": {},
   "source": [
    "# One final model - testing what we learned in class on Friday\n",
    "\n",
    "### Using a sentiment analyzer, the score was unchanged.  Using average word length or post length, the predictive power of the model decreased."
   ]
  },
  {
   "cell_type": "code",
   "execution_count": 27,
   "metadata": {},
   "outputs": [
    {
     "data": {
      "text/plain": [
       "{'compound': 0.0, 'neg': 0.0, 'neu': 1.0, 'pos': 0.0}"
      ]
     },
     "execution_count": 27,
     "metadata": {},
     "output_type": "execute_result"
    }
   ],
   "source": [
    "sia = SentimentIntensityAnalyzer()\n",
    "sia.polarity_scores('hi how are you')"
   ]
  },
  {
   "cell_type": "code",
   "execution_count": 28,
   "metadata": {},
   "outputs": [],
   "source": [
    "class PosScore(BaseEstimator, TransformerMixin):\n",
    "\n",
    "    sia = SentimentIntensityAnalyzer()\n",
    "\n",
    "    def __init__(self):\n",
    "        pass\n",
    "    \n",
    "    def get_pos(self, line):\n",
    "        return sia.polarity_scores(line)['pos']\n",
    "    \n",
    "    def transform(self, df):\n",
    "        return np.array(df.apply(self.get_pos)).reshape(-1,1)\n",
    "    \n",
    "    def fit(self, df, y=None):\n",
    "        return self"
   ]
  },
  {
   "cell_type": "code",
   "execution_count": 29,
   "metadata": {},
   "outputs": [],
   "source": [
    "class AverageWordLength(BaseEstimator, TransformerMixin):\n",
    "    \n",
    "    def __init__(self):\n",
    "        pass\n",
    "    \n",
    "    def avg_word_length(self, line):\n",
    "        return np.mean([len(each) for each in line.split()])\n",
    "    \n",
    "    def transform(self, df):\n",
    "        return np.array(df.apply(self.avg_word_length)).reshape(-1,1)\n",
    "    \n",
    "    def fit(self, df, y=None):\n",
    "        return self"
   ]
  },
  {
   "cell_type": "code",
   "execution_count": 30,
   "metadata": {},
   "outputs": [],
   "source": [
    "class PostLength(BaseEstimator, TransformerMixin):\n",
    "    \n",
    "    def __init__(self):\n",
    "        pass\n",
    "    \n",
    "    def post_length(self, line):\n",
    "        return len(line) \n",
    "    \n",
    "    def transform(self, df):\n",
    "        return np.array(df.apply(self.post_length)).reshape(-1,1)\n",
    "    \n",
    "    def fit(self, df, y=None):\n",
    "        return self"
   ]
  },
  {
   "cell_type": "code",
   "execution_count": 31,
   "metadata": {},
   "outputs": [
    {
     "name": "stdout",
     "output_type": "stream",
     "text": [
      "0.9967637540453075 0.9644588045234249\n"
     ]
    }
   ],
   "source": [
    "pipe55 = Pipeline([\n",
    "    ('fu', FeatureUnion([\n",
    "        ('cv', CountVectorizer(ngram_range=(1,3))),\n",
    "#        ('awl', AverageWordLength()),\n",
    "#        ('gc', PosScore()),\n",
    "#        ('pl', PostLength())\n",
    "    ])),\n",
    "    ('nb', MultinomialNB())\n",
    "])\n",
    "\n",
    "pipe55.fit(X_tr_f, y_train.values.ravel())\n",
    "print(pipe55.score(X_tr_f, y_train), pipe55.score(X_te_f, y_test))"
   ]
  },
  {
   "cell_type": "code",
   "execution_count": null,
   "metadata": {},
   "outputs": [],
   "source": []
  }
 ],
 "metadata": {
  "kernelspec": {
   "display_name": "Python [conda env:anaconda3]",
   "language": "python",
   "name": "conda-env-anaconda3-py"
  },
  "language_info": {
   "codemirror_mode": {
    "name": "ipython",
    "version": 3
   },
   "file_extension": ".py",
   "mimetype": "text/x-python",
   "name": "python",
   "nbconvert_exporter": "python",
   "pygments_lexer": "ipython3",
   "version": "3.6.4"
  }
 },
 "nbformat": 4,
 "nbformat_minor": 2
}
